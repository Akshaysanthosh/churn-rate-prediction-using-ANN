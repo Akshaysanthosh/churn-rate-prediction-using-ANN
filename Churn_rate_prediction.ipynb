{
  "nbformat": 4,
  "nbformat_minor": 0,
  "metadata": {
    "colab": {
      "name": "Churn_rate_prediction",
      "version": "0.3.2",
      "provenance": [],
      "include_colab_link": true
    },
    "kernelspec": {
      "name": "python3",
      "display_name": "Python 3"
    },
    "accelerator": "GPU"
  },
  "cells": [
    {
      "cell_type": "markdown",
      "metadata": {
        "id": "view-in-github",
        "colab_type": "text"
      },
      "source": [
        "<a href=\"https://colab.research.google.com/github/Akshaysanthosh/churn-rate-prediction-using-ANN/blob/master/Churn_rate_prediction.ipynb\" target=\"_parent\"><img src=\"https://colab.research.google.com/assets/colab-badge.svg\" alt=\"Open In Colab\"/></a>"
      ]
    },
    {
      "metadata": {
        "id": "TXdFCtAVcO9B",
        "colab_type": "code",
        "outputId": "0957bd64-7682-40a9-c583-ce1cd8b4e69a",
        "colab": {
          "resources": {
            "http://localhost:8080/nbextensions/google.colab/files.js": {
              "data": "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",
              "ok": true,
              "headers": [
                [
                  "content-type",
                  "application/javascript"
                ]
              ],
              "status": 200,
              "status_text": ""
            }
          },
          "base_uri": "https://localhost:8080/",
          "height": 86
        }
      },
      "cell_type": "code",
      "source": [
        "from google.colab import files\n",
        "\n",
        "uploaded = files.upload()\n",
        "\n",
        "for fn in uploaded.keys():\n",
        "  print('User uploaded file \"{name}\" with length {length} bytes'.format(\n",
        "      name=fn, length=len(uploaded[fn])))"
      ],
      "execution_count": 2,
      "outputs": [
        {
          "output_type": "display_data",
          "data": {
            "text/html": [
              "\n",
              "     <input type=\"file\" id=\"files-3f92d0f6-f195-4cb2-bdf6-8bd79481378a\" name=\"files[]\" multiple disabled />\n",
              "     <output id=\"result-3f92d0f6-f195-4cb2-bdf6-8bd79481378a\">\n",
              "      Upload widget is only available when the cell has been executed in the\n",
              "      current browser session. Please rerun this cell to enable.\n",
              "      </output>\n",
              "      <script src=\"/nbextensions/google.colab/files.js\"></script> "
            ],
            "text/plain": [
              "<IPython.core.display.HTML object>"
            ]
          },
          "metadata": {
            "tags": []
          }
        },
        {
          "output_type": "stream",
          "text": [
            "Saving Churn_Modelling.csv to Churn_Modelling.csv\n",
            "User uploaded file \"Churn_Modelling.csv\" with length 684858 bytes\n"
          ],
          "name": "stdout"
        }
      ]
    },
    {
      "metadata": {
        "id": "IiDovcx9ctK4",
        "colab_type": "code",
        "colab": {}
      },
      "cell_type": "code",
      "source": [
        "import numpy as np\n",
        "import matplotlib.pyplot as plt\n",
        "import pandas as pd"
      ],
      "execution_count": 0,
      "outputs": []
    },
    {
      "metadata": {
        "id": "rL6nBsV3ctU6",
        "colab_type": "code",
        "colab": {}
      },
      "cell_type": "code",
      "source": [
        "dataset = pd.read_csv('Churn_Modelling.csv')\n",
        "X = dataset.iloc[:, 3:13].values\n",
        "y = dataset.iloc[:, 13].values"
      ],
      "execution_count": 0,
      "outputs": []
    },
    {
      "metadata": {
        "id": "siqf_2Xxcyp4",
        "colab_type": "code",
        "outputId": "cb70ac45-751e-430e-d4b6-df96427cf98f",
        "colab": {
          "base_uri": "https://localhost:8080/",
          "height": 139
        }
      },
      "cell_type": "code",
      "source": [
        "from sklearn.preprocessing import LabelEncoder, OneHotEncoder\n",
        "labelencoder_X_1 = LabelEncoder()\n",
        "X[:, 1] = labelencoder_X_1.fit_transform(X[:, 1])\n",
        "labelencoder_X_2 = LabelEncoder()\n",
        "X[:, 2] = labelencoder_X_2.fit_transform(X[:, 2])\n",
        "onehotencoder = OneHotEncoder(categorical_features = [1])\n",
        "X = onehotencoder.fit_transform(X).toarray()\n",
        "X = X[:, 1:]\n",
        "\n",
        "\n"
      ],
      "execution_count": 5,
      "outputs": [
        {
          "output_type": "stream",
          "text": [
            "/usr/local/lib/python3.6/dist-packages/sklearn/preprocessing/_encoders.py:368: FutureWarning: The handling of integer data will change in version 0.22. Currently, the categories are determined based on the range [0, max(values)], while in the future they will be determined based on the unique values.\n",
            "If you want the future behaviour and silence this warning, you can specify \"categories='auto'\".\n",
            "In case you used a LabelEncoder before this OneHotEncoder to convert the categories to integers, then you can now use the OneHotEncoder directly.\n",
            "  warnings.warn(msg, FutureWarning)\n",
            "/usr/local/lib/python3.6/dist-packages/sklearn/preprocessing/_encoders.py:390: DeprecationWarning: The 'categorical_features' keyword is deprecated in version 0.20 and will be removed in 0.22. You can use the ColumnTransformer instead.\n",
            "  \"use the ColumnTransformer instead.\", DeprecationWarning)\n"
          ],
          "name": "stderr"
        }
      ]
    },
    {
      "metadata": {
        "id": "HODoAHrUcyvl",
        "colab_type": "code",
        "colab": {}
      },
      "cell_type": "code",
      "source": [
        "from sklearn.model_selection import train_test_split\n",
        "X_train, X_test, y_train, y_test = train_test_split(X, y, test_size = 0.2, random_state = 0)"
      ],
      "execution_count": 0,
      "outputs": []
    },
    {
      "metadata": {
        "id": "4c_nRfqRcy7h",
        "colab_type": "code",
        "colab": {}
      },
      "cell_type": "code",
      "source": [
        "from sklearn.preprocessing import StandardScaler\n",
        "sc = StandardScaler()\n",
        "X_train = sc.fit_transform(X_train)\n",
        "X_test = sc.transform(X_test)\n"
      ],
      "execution_count": 0,
      "outputs": []
    },
    {
      "metadata": {
        "id": "BiwsWfCccy5f",
        "colab_type": "code",
        "outputId": "94764a15-159c-42ee-ba4e-88586524313f",
        "colab": {
          "base_uri": "https://localhost:8080/",
          "height": 34
        }
      },
      "cell_type": "code",
      "source": [
        "import keras \n",
        "\n",
        "from keras.models import Sequential\n",
        "from keras.layers import Dense\n"
      ],
      "execution_count": 9,
      "outputs": [
        {
          "output_type": "stream",
          "text": [
            "Using TensorFlow backend.\n"
          ],
          "name": "stderr"
        }
      ]
    },
    {
      "metadata": {
        "id": "v4WmtPwfcy01",
        "colab_type": "code",
        "colab": {}
      },
      "cell_type": "code",
      "source": [
        "# Initialising the ANN\n",
        "classifier = Sequential()\n"
      ],
      "execution_count": 0,
      "outputs": []
    },
    {
      "metadata": {
        "id": "tsEAKSDGeoS0",
        "colab_type": "code",
        "outputId": "87c5a41e-77d4-4097-c526-750fe06694ae",
        "colab": {
          "base_uri": "https://localhost:8080/",
          "height": 88
        }
      },
      "cell_type": "code",
      "source": [
        "# Adding the input layer and the first hidden layer(rect fun)\n",
        "\n",
        "classifier.add(Dense(units = 6, kernel_initializer = 'uniform', activation = 'relu', input_dim = 11))"
      ],
      "execution_count": 11,
      "outputs": [
        {
          "output_type": "stream",
          "text": [
            "WARNING:tensorflow:From /usr/local/lib/python3.6/dist-packages/tensorflow/python/framework/op_def_library.py:263: colocate_with (from tensorflow.python.framework.ops) is deprecated and will be removed in a future version.\n",
            "Instructions for updating:\n",
            "Colocations handled automatically by placer.\n"
          ],
          "name": "stdout"
        }
      ]
    },
    {
      "metadata": {
        "id": "ObE94x3deoZW",
        "colab_type": "code",
        "colab": {}
      },
      "cell_type": "code",
      "source": [
        "# Adding the second hidden layer\n",
        "classifier.add(Dense(units = 6, kernel_initializer = 'uniform', activation = 'relu'))"
      ],
      "execution_count": 0,
      "outputs": []
    },
    {
      "metadata": {
        "id": "3S7otAK3hlh_",
        "colab_type": "code",
        "colab": {}
      },
      "cell_type": "code",
      "source": [
        "# Adding the output layer\n",
        "classifier.add(Dense(units = 1, kernel_initializer = 'uniform', activation = 'sigmoid'))"
      ],
      "execution_count": 0,
      "outputs": []
    },
    {
      "metadata": {
        "id": "3ZW_CpwKhlqm",
        "colab_type": "code",
        "colab": {}
      },
      "cell_type": "code",
      "source": [
        "# Compiling the ANN\n",
        "classifier.compile(optimizer = 'adam', loss = 'binary_crossentropy', metrics = ['accuracy'])"
      ],
      "execution_count": 0,
      "outputs": []
    },
    {
      "metadata": {
        "id": "MDUF7IiXhlpI",
        "colab_type": "code",
        "outputId": "47113740-ba63-4d2f-f1ed-f8316de6c7f2",
        "colab": {
          "base_uri": "https://localhost:8080/",
          "height": 3505
        }
      },
      "cell_type": "code",
      "source": [
        "# Fitting the ANN to the Training set\n",
        "classifier.fit(X_train, y_train, batch_size = 10, epochs = 100)"
      ],
      "execution_count": 15,
      "outputs": [
        {
          "output_type": "stream",
          "text": [
            "WARNING:tensorflow:From /usr/local/lib/python3.6/dist-packages/tensorflow/python/ops/math_ops.py:3066: to_int32 (from tensorflow.python.ops.math_ops) is deprecated and will be removed in a future version.\n",
            "Instructions for updating:\n",
            "Use tf.cast instead.\n",
            "Epoch 1/100\n",
            "8000/8000 [==============================] - 7s 857us/step - loss: 0.4846 - acc: 0.7955\n",
            "Epoch 2/100\n",
            "8000/8000 [==============================] - 5s 611us/step - loss: 0.4284 - acc: 0.7960\n",
            "Epoch 3/100\n",
            "8000/8000 [==============================] - 5s 609us/step - loss: 0.4237 - acc: 0.7960\n",
            "Epoch 4/100\n",
            "8000/8000 [==============================] - 5s 616us/step - loss: 0.4196 - acc: 0.8115\n",
            "Epoch 5/100\n",
            "8000/8000 [==============================] - 5s 619us/step - loss: 0.4168 - acc: 0.8241\n",
            "Epoch 6/100\n",
            "8000/8000 [==============================] - 5s 642us/step - loss: 0.4150 - acc: 0.8282\n",
            "Epoch 7/100\n",
            "8000/8000 [==============================] - 5s 631us/step - loss: 0.4134 - acc: 0.8312\n",
            "Epoch 8/100\n",
            "8000/8000 [==============================] - 5s 638us/step - loss: 0.4121 - acc: 0.8311\n",
            "Epoch 9/100\n",
            "8000/8000 [==============================] - 5s 639us/step - loss: 0.4111 - acc: 0.8341\n",
            "Epoch 10/100\n",
            "8000/8000 [==============================] - 5s 625us/step - loss: 0.4108 - acc: 0.8347\n",
            "Epoch 11/100\n",
            "8000/8000 [==============================] - 5s 645us/step - loss: 0.4095 - acc: 0.8352\n",
            "Epoch 12/100\n",
            "8000/8000 [==============================] - 5s 633us/step - loss: 0.4089 - acc: 0.8339\n",
            "Epoch 13/100\n",
            "8000/8000 [==============================] - 5s 623us/step - loss: 0.4083 - acc: 0.8345\n",
            "Epoch 14/100\n",
            "8000/8000 [==============================] - 5s 615us/step - loss: 0.4077 - acc: 0.8337\n",
            "Epoch 15/100\n",
            "8000/8000 [==============================] - 5s 623us/step - loss: 0.4070 - acc: 0.8331\n",
            "Epoch 16/100\n",
            "8000/8000 [==============================] - 5s 624us/step - loss: 0.4065 - acc: 0.8335\n",
            "Epoch 17/100\n",
            "8000/8000 [==============================] - 5s 611us/step - loss: 0.4059 - acc: 0.8336\n",
            "Epoch 18/100\n",
            "8000/8000 [==============================] - 4s 561us/step - loss: 0.4055 - acc: 0.8344\n",
            "Epoch 19/100\n",
            "8000/8000 [==============================] - 4s 559us/step - loss: 0.4051 - acc: 0.8339\n",
            "Epoch 20/100\n",
            "8000/8000 [==============================] - 5s 605us/step - loss: 0.4047 - acc: 0.8345\n",
            "Epoch 21/100\n",
            "8000/8000 [==============================] - 5s 618us/step - loss: 0.4042 - acc: 0.8355\n",
            "Epoch 22/100\n",
            "8000/8000 [==============================] - 5s 597us/step - loss: 0.4045 - acc: 0.8335\n",
            "Epoch 23/100\n",
            "8000/8000 [==============================] - 5s 618us/step - loss: 0.4045 - acc: 0.8339\n",
            "Epoch 24/100\n",
            "8000/8000 [==============================] - 5s 634us/step - loss: 0.4040 - acc: 0.8340\n",
            "Epoch 25/100\n",
            "8000/8000 [==============================] - 5s 637us/step - loss: 0.4037 - acc: 0.8361\n",
            "Epoch 26/100\n",
            "8000/8000 [==============================] - 5s 627us/step - loss: 0.4035 - acc: 0.8352\n",
            "Epoch 27/100\n",
            "8000/8000 [==============================] - 5s 635us/step - loss: 0.4041 - acc: 0.8355\n",
            "Epoch 28/100\n",
            "8000/8000 [==============================] - 5s 635us/step - loss: 0.4033 - acc: 0.8351\n",
            "Epoch 29/100\n",
            "8000/8000 [==============================] - 5s 644us/step - loss: 0.4032 - acc: 0.8336\n",
            "Epoch 30/100\n",
            "8000/8000 [==============================] - 5s 635us/step - loss: 0.4032 - acc: 0.8335\n",
            "Epoch 31/100\n",
            "8000/8000 [==============================] - 5s 620us/step - loss: 0.4033 - acc: 0.8356\n",
            "Epoch 32/100\n",
            "8000/8000 [==============================] - 5s 599us/step - loss: 0.4032 - acc: 0.8349\n",
            "Epoch 33/100\n",
            "8000/8000 [==============================] - 5s 621us/step - loss: 0.4027 - acc: 0.8344\n",
            "Epoch 34/100\n",
            "8000/8000 [==============================] - 5s 620us/step - loss: 0.4029 - acc: 0.8342\n",
            "Epoch 35/100\n",
            "8000/8000 [==============================] - 5s 613us/step - loss: 0.4027 - acc: 0.8345\n",
            "Epoch 36/100\n",
            "8000/8000 [==============================] - 5s 579us/step - loss: 0.4029 - acc: 0.8345\n",
            "Epoch 37/100\n",
            "8000/8000 [==============================] - 5s 597us/step - loss: 0.4029 - acc: 0.8354\n",
            "Epoch 38/100\n",
            "8000/8000 [==============================] - 5s 601us/step - loss: 0.4026 - acc: 0.8331\n",
            "Epoch 39/100\n",
            "8000/8000 [==============================] - 5s 618us/step - loss: 0.4023 - acc: 0.8335\n",
            "Epoch 40/100\n",
            "8000/8000 [==============================] - 5s 621us/step - loss: 0.4023 - acc: 0.8336\n",
            "Epoch 41/100\n",
            "8000/8000 [==============================] - 5s 592us/step - loss: 0.4025 - acc: 0.8344\n",
            "Epoch 42/100\n",
            "8000/8000 [==============================] - 5s 596us/step - loss: 0.4020 - acc: 0.8332\n",
            "Epoch 43/100\n",
            "8000/8000 [==============================] - 5s 619us/step - loss: 0.4022 - acc: 0.8347\n",
            "Epoch 44/100\n",
            "8000/8000 [==============================] - 5s 619us/step - loss: 0.4023 - acc: 0.8340\n",
            "Epoch 45/100\n",
            "8000/8000 [==============================] - 5s 619us/step - loss: 0.4020 - acc: 0.8341\n",
            "Epoch 46/100\n",
            "8000/8000 [==============================] - 5s 607us/step - loss: 0.4022 - acc: 0.8352\n",
            "Epoch 47/100\n",
            "8000/8000 [==============================] - 5s 583us/step - loss: 0.4024 - acc: 0.8331\n",
            "Epoch 48/100\n",
            "8000/8000 [==============================] - 5s 661us/step - loss: 0.4019 - acc: 0.8346\n",
            "Epoch 49/100\n",
            "8000/8000 [==============================] - 7s 832us/step - loss: 0.4023 - acc: 0.8349\n",
            "Epoch 50/100\n",
            "8000/8000 [==============================] - 5s 639us/step - loss: 0.4020 - acc: 0.8351\n",
            "Epoch 51/100\n",
            "8000/8000 [==============================] - 5s 645us/step - loss: 0.4021 - acc: 0.8349\n",
            "Epoch 52/100\n",
            "8000/8000 [==============================] - 5s 659us/step - loss: 0.4018 - acc: 0.8347\n",
            "Epoch 53/100\n",
            "8000/8000 [==============================] - 5s 622us/step - loss: 0.4018 - acc: 0.8355\n",
            "Epoch 54/100\n",
            "8000/8000 [==============================] - 5s 662us/step - loss: 0.4019 - acc: 0.8354\n",
            "Epoch 55/100\n",
            "8000/8000 [==============================] - 5s 654us/step - loss: 0.4019 - acc: 0.8331\n",
            "Epoch 56/100\n",
            "8000/8000 [==============================] - 5s 647us/step - loss: 0.4018 - acc: 0.8349\n",
            "Epoch 57/100\n",
            "8000/8000 [==============================] - 5s 628us/step - loss: 0.4011 - acc: 0.8344\n",
            "Epoch 58/100\n",
            "8000/8000 [==============================] - 5s 632us/step - loss: 0.4017 - acc: 0.8342\n",
            "Epoch 59/100\n",
            "8000/8000 [==============================] - 5s 638us/step - loss: 0.4013 - acc: 0.8339\n",
            "Epoch 60/100\n",
            "8000/8000 [==============================] - 5s 602us/step - loss: 0.4017 - acc: 0.8346\n",
            "Epoch 61/100\n",
            "8000/8000 [==============================] - 5s 614us/step - loss: 0.4007 - acc: 0.8349\n",
            "Epoch 62/100\n",
            "8000/8000 [==============================] - 5s 631us/step - loss: 0.4013 - acc: 0.8351\n",
            "Epoch 63/100\n",
            "8000/8000 [==============================] - 5s 636us/step - loss: 0.4008 - acc: 0.8354\n",
            "Epoch 64/100\n",
            "8000/8000 [==============================] - 5s 634us/step - loss: 0.4015 - acc: 0.8355\n",
            "Epoch 65/100\n",
            "8000/8000 [==============================] - 5s 598us/step - loss: 0.4005 - acc: 0.8346\n",
            "Epoch 66/100\n",
            "8000/8000 [==============================] - 5s 608us/step - loss: 0.4009 - acc: 0.8346\n",
            "Epoch 67/100\n",
            "8000/8000 [==============================] - 5s 626us/step - loss: 0.4009 - acc: 0.8344\n",
            "Epoch 68/100\n",
            "8000/8000 [==============================] - 5s 617us/step - loss: 0.4006 - acc: 0.8347\n",
            "Epoch 69/100\n",
            "8000/8000 [==============================] - 5s 626us/step - loss: 0.4008 - acc: 0.8351\n",
            "Epoch 70/100\n",
            "8000/8000 [==============================] - 5s 631us/step - loss: 0.4002 - acc: 0.8334\n",
            "Epoch 71/100\n",
            "8000/8000 [==============================] - 5s 607us/step - loss: 0.4007 - acc: 0.8340\n",
            "Epoch 72/100\n",
            "8000/8000 [==============================] - 5s 629us/step - loss: 0.4005 - acc: 0.8340\n",
            "Epoch 73/100\n",
            "8000/8000 [==============================] - 5s 598us/step - loss: 0.4009 - acc: 0.8327\n",
            "Epoch 74/100\n",
            "8000/8000 [==============================] - 5s 638us/step - loss: 0.4007 - acc: 0.8349\n",
            "Epoch 75/100\n",
            "8000/8000 [==============================] - 5s 617us/step - loss: 0.4003 - acc: 0.8345\n",
            "Epoch 76/100\n",
            "8000/8000 [==============================] - 5s 598us/step - loss: 0.4007 - acc: 0.8357\n",
            "Epoch 77/100\n",
            "8000/8000 [==============================] - 5s 587us/step - loss: 0.4003 - acc: 0.8344\n",
            "Epoch 78/100\n",
            "8000/8000 [==============================] - 5s 577us/step - loss: 0.4004 - acc: 0.8350\n",
            "Epoch 79/100\n",
            "8000/8000 [==============================] - 5s 568us/step - loss: 0.4005 - acc: 0.8362\n",
            "Epoch 80/100\n",
            "8000/8000 [==============================] - 5s 578us/step - loss: 0.4005 - acc: 0.8349\n",
            "Epoch 81/100\n",
            "8000/8000 [==============================] - 4s 558us/step - loss: 0.4003 - acc: 0.8360\n",
            "Epoch 82/100\n",
            "8000/8000 [==============================] - 5s 569us/step - loss: 0.4003 - acc: 0.8356\n",
            "Epoch 83/100\n",
            "8000/8000 [==============================] - 5s 584us/step - loss: 0.4001 - acc: 0.8336\n",
            "Epoch 84/100\n",
            "8000/8000 [==============================] - 5s 587us/step - loss: 0.4004 - acc: 0.8341\n",
            "Epoch 85/100\n",
            "8000/8000 [==============================] - 5s 595us/step - loss: 0.4004 - acc: 0.8365\n",
            "Epoch 86/100\n",
            "8000/8000 [==============================] - 5s 588us/step - loss: 0.4004 - acc: 0.8349\n",
            "Epoch 87/100\n",
            "8000/8000 [==============================] - 4s 556us/step - loss: 0.4004 - acc: 0.8359\n",
            "Epoch 88/100\n",
            "8000/8000 [==============================] - 5s 594us/step - loss: 0.4000 - acc: 0.8345\n",
            "Epoch 89/100\n",
            "8000/8000 [==============================] - 5s 597us/step - loss: 0.3997 - acc: 0.8350\n",
            "Epoch 90/100\n",
            "8000/8000 [==============================] - 5s 613us/step - loss: 0.4002 - acc: 0.8354\n",
            "Epoch 91/100\n",
            "8000/8000 [==============================] - 5s 607us/step - loss: 0.3997 - acc: 0.8367\n",
            "Epoch 92/100\n",
            "8000/8000 [==============================] - 5s 612us/step - loss: 0.3999 - acc: 0.8345\n",
            "Epoch 93/100\n",
            "8000/8000 [==============================] - 5s 608us/step - loss: 0.3998 - acc: 0.8354\n",
            "Epoch 94/100\n",
            "8000/8000 [==============================] - 5s 608us/step - loss: 0.4004 - acc: 0.8349\n",
            "Epoch 95/100\n",
            "8000/8000 [==============================] - 5s 611us/step - loss: 0.4002 - acc: 0.8356\n",
            "Epoch 96/100\n",
            "8000/8000 [==============================] - 5s 604us/step - loss: 0.4004 - acc: 0.8359\n",
            "Epoch 97/100\n",
            "8000/8000 [==============================] - 5s 577us/step - loss: 0.4000 - acc: 0.8356\n",
            "Epoch 98/100\n",
            "8000/8000 [==============================] - 5s 610us/step - loss: 0.4004 - acc: 0.8351\n",
            "Epoch 99/100\n",
            "8000/8000 [==============================] - 5s 619us/step - loss: 0.3998 - acc: 0.8347\n",
            "Epoch 100/100\n",
            "8000/8000 [==============================] - 5s 605us/step - loss: 0.4003 - acc: 0.8354\n"
          ],
          "name": "stdout"
        },
        {
          "output_type": "execute_result",
          "data": {
            "text/plain": [
              "<keras.callbacks.History at 0x7f08ce426c50>"
            ]
          },
          "metadata": {
            "tags": []
          },
          "execution_count": 15
        }
      ]
    },
    {
      "metadata": {
        "id": "I2KmoD7Qhllr",
        "colab_type": "code",
        "outputId": "199e46bc-4ed9-4d4c-a400-b80802c57a2a",
        "colab": {
          "base_uri": "https://localhost:8080/",
          "height": 436
        }
      },
      "cell_type": "code",
      "source": [
        "from sklearn.metrics import accuracy_score\n",
        "\n",
        "y_pred = classifier.predict(X_test)\n",
        "\n",
        "len(y_pred)\n",
        "\n",
        "len(y_test)\n",
        "\n",
        "accuracy_score(X_test, y_pred)"
      ],
      "execution_count": 24,
      "outputs": [
        {
          "output_type": "error",
          "ename": "ValueError",
          "evalue": "ignored",
          "traceback": [
            "\u001b[0;31m---------------------------------------------------------------------------\u001b[0m",
            "\u001b[0;31mValueError\u001b[0m                                Traceback (most recent call last)",
            "\u001b[0;32m<ipython-input-24-fe99ba598d86>\u001b[0m in \u001b[0;36m<module>\u001b[0;34m()\u001b[0m\n\u001b[1;32m      7\u001b[0m \u001b[0mlen\u001b[0m\u001b[0;34m(\u001b[0m\u001b[0my_test\u001b[0m\u001b[0;34m)\u001b[0m\u001b[0;34m\u001b[0m\u001b[0;34m\u001b[0m\u001b[0m\n\u001b[1;32m      8\u001b[0m \u001b[0;34m\u001b[0m\u001b[0m\n\u001b[0;32m----> 9\u001b[0;31m \u001b[0maccuracy_score\u001b[0m\u001b[0;34m(\u001b[0m\u001b[0mX_test\u001b[0m\u001b[0;34m,\u001b[0m \u001b[0my_pred\u001b[0m\u001b[0;34m)\u001b[0m\u001b[0;34m\u001b[0m\u001b[0;34m\u001b[0m\u001b[0m\n\u001b[0m",
            "\u001b[0;32m/usr/local/lib/python3.6/dist-packages/sklearn/metrics/classification.py\u001b[0m in \u001b[0;36maccuracy_score\u001b[0;34m(y_true, y_pred, normalize, sample_weight)\u001b[0m\n\u001b[1;32m    174\u001b[0m \u001b[0;34m\u001b[0m\u001b[0m\n\u001b[1;32m    175\u001b[0m     \u001b[0;31m# Compute accuracy for each possible representation\u001b[0m\u001b[0;34m\u001b[0m\u001b[0;34m\u001b[0m\u001b[0;34m\u001b[0m\u001b[0m\n\u001b[0;32m--> 176\u001b[0;31m     \u001b[0my_type\u001b[0m\u001b[0;34m,\u001b[0m \u001b[0my_true\u001b[0m\u001b[0;34m,\u001b[0m \u001b[0my_pred\u001b[0m \u001b[0;34m=\u001b[0m \u001b[0m_check_targets\u001b[0m\u001b[0;34m(\u001b[0m\u001b[0my_true\u001b[0m\u001b[0;34m,\u001b[0m \u001b[0my_pred\u001b[0m\u001b[0;34m)\u001b[0m\u001b[0;34m\u001b[0m\u001b[0;34m\u001b[0m\u001b[0m\n\u001b[0m\u001b[1;32m    177\u001b[0m     \u001b[0mcheck_consistent_length\u001b[0m\u001b[0;34m(\u001b[0m\u001b[0my_true\u001b[0m\u001b[0;34m,\u001b[0m \u001b[0my_pred\u001b[0m\u001b[0;34m,\u001b[0m \u001b[0msample_weight\u001b[0m\u001b[0;34m)\u001b[0m\u001b[0;34m\u001b[0m\u001b[0;34m\u001b[0m\u001b[0m\n\u001b[1;32m    178\u001b[0m     \u001b[0;32mif\u001b[0m \u001b[0my_type\u001b[0m\u001b[0;34m.\u001b[0m\u001b[0mstartswith\u001b[0m\u001b[0;34m(\u001b[0m\u001b[0;34m'multilabel'\u001b[0m\u001b[0;34m)\u001b[0m\u001b[0;34m:\u001b[0m\u001b[0;34m\u001b[0m\u001b[0;34m\u001b[0m\u001b[0m\n",
            "\u001b[0;32m/usr/local/lib/python3.6/dist-packages/sklearn/metrics/classification.py\u001b[0m in \u001b[0;36m_check_targets\u001b[0;34m(y_true, y_pred)\u001b[0m\n\u001b[1;32m     79\u001b[0m     \u001b[0;32mif\u001b[0m \u001b[0mlen\u001b[0m\u001b[0;34m(\u001b[0m\u001b[0my_type\u001b[0m\u001b[0;34m)\u001b[0m \u001b[0;34m>\u001b[0m \u001b[0;36m1\u001b[0m\u001b[0;34m:\u001b[0m\u001b[0;34m\u001b[0m\u001b[0;34m\u001b[0m\u001b[0m\n\u001b[1;32m     80\u001b[0m         raise ValueError(\"Classification metrics can't handle a mix of {0} \"\n\u001b[0;32m---> 81\u001b[0;31m                          \"and {1} targets\".format(type_true, type_pred))\n\u001b[0m\u001b[1;32m     82\u001b[0m \u001b[0;34m\u001b[0m\u001b[0m\n\u001b[1;32m     83\u001b[0m     \u001b[0;31m# We can't have more than one value on y_type => The set is no more needed\u001b[0m\u001b[0;34m\u001b[0m\u001b[0;34m\u001b[0m\u001b[0;34m\u001b[0m\u001b[0m\n",
            "\u001b[0;31mValueError\u001b[0m: Classification metrics can't handle a mix of continuous-multioutput and continuous targets"
          ]
        }
      ]
    }
  ]
}